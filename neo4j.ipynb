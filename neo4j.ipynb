{
 "cells": [
  {
   "cell_type": "code",
   "execution_count": null,
   "metadata": {},
   "outputs": [],
   "source": [
    "from neo4j import GraphDatabase\n",
    "\n",
    "# Initialize the driver\n",
    "driver = GraphDatabase.driver(\"neo4j+s://7267acb1.databases.neo4j.io:7687\", auth=(\"neo4j\", \"3txrf4VnuITVeyMe77xXwcN8Pnpko6A1z7YVCwwsNw0\"))\n",
    "\n"
   ]
  }
 ],
 "metadata": {
  "kernelspec": {
   "display_name": "llmag",
   "language": "python",
   "name": "python3"
  },
  "language_info": {
   "name": "python"
  }
 },
 "nbformat": 4,
 "nbformat_minor": 2
}
