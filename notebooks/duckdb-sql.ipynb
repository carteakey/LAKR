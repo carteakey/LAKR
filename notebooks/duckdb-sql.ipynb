{
 "cells": [
  {
   "cell_type": "code",
   "execution_count": 1,
   "metadata": {},
   "outputs": [],
   "source": [
    "# get review text from duckdb\n",
    "\n",
    "import duckdb\n",
    "con = duckdb.connect('/home/kchauhan/repos/mds-tmu-mrp/db/duckdb/amazon_reviews.duckdb')\n"
   ]
  },
  {
   "cell_type": "code",
   "execution_count": 2,
   "metadata": {},
   "outputs": [],
   "source": [
    "con.sql(\" UPDATE review_processing_status SET rating = null\")"
   ]
  },
  {
   "cell_type": "code",
   "execution_count": null,
   "metadata": {},
   "outputs": [],
   "source": []
  },
  {
   "cell_type": "code",
   "execution_count": null,
   "metadata": {},
   "outputs": [],
   "source": []
  },
  {
   "cell_type": "code",
   "execution_count": 5,
   "metadata": {},
   "outputs": [
    {
     "data": {
      "text/plain": [
       "┌────────────┐\n",
       "│ categories │\n",
       "│  varchar   │\n",
       "├────────────┤\n",
       "│ []         │\n",
       "└────────────┘"
      ]
     },
     "execution_count": 5,
     "metadata": {},
     "output_type": "execute_result"
    }
   ],
   "source": [
    "con.sql (\"SELECT DISTINCT categories from raw_meta_Books WHERE categories not like '%Books%'\")"
   ]
  },
  {
   "cell_type": "code",
   "execution_count": 3,
   "metadata": {},
   "outputs": [],
   "source": [
    "\n",
    "rating_only_positive = con.execute(f\"SELECT * FROM rating_only_positive\").fetchdf()\n",
    "rating_only_positive_item_ids = rating_only_positive[\"item_id\"].values"
   ]
  },
  {
   "cell_type": "code",
   "execution_count": 4,
   "metadata": {},
   "outputs": [
    {
     "data": {
      "text/plain": [
       "(array(['1446304000', '1564770672', '1442450703', ..., '161614839X',\n",
       "        '0743259823', '0890963908'], dtype=object),\n",
       " 8038735)"
      ]
     },
     "execution_count": 4,
     "metadata": {},
     "output_type": "execute_result"
    }
   ],
   "source": [
    "rating_only_positive_item_ids, len(rating_only_positive_item_ids)"
   ]
  },
  {
   "cell_type": "code",
   "execution_count": 28,
   "metadata": {},
   "outputs": [
    {
     "data": {
      "text/plain": [
       "{'main_category': {15: 'Books'},\n",
       " 'title': {15: 'Behavior Principles in Everyday Life'},\n",
       " 'average_rating': {15: '3.7'},\n",
       " 'rating_number': {15: '14'},\n",
       " 'features': {15: '[\"The text provides a comprehensive review of the major principles of behavior in operand conditioning. Pavlovian conditioning, social learning theory, and cognitive behaviorism. The text\\'s strength is its emphasis on understanding behavior principles and their applications through everyday, life examples rather than experiments.\"]'},\n",
       " 'description': {15: '[]'},\n",
       " 'price': {15: '6.74'},\n",
       " 'images': {15: '{\"hi_res\": [null], \"large\": [\"https://m.media-amazon.com/images/I/41BZJS25WAL._SX218_BO1,204,203,200_QL40_FMwebp_.jpg\"], \"thumb\": [null], \"variant\": [\"MAIN\"]}'},\n",
       " 'videos': {15: '{\"title\": [], \"url\": [], \"user_id\": []}'},\n",
       " 'store': {15: 'John D. Baldwin (Author)'},\n",
       " 'categories': {15: \"['Books', 'Health, Fitness & Dieting', 'Psychology & Counseling']\"},\n",
       " 'details': {15: '{\"Publisher\": \"Prentice Hall College Div; 3rd edition (January 1, 1997)\", \"Language\": \"English\", \"Paperback\": \"390 pages\", \"ISBN 10\": \"0130840963\", \"ISBN 13\": \"978-0130840967\", \"Item Weight\": \"1.3 pounds\", \"Dimensions\": \"7.01 x 0.67 x 9.17 inches\"}'},\n",
       " 'parent_asin': {15: '0130840963'},\n",
       " 'bought_together': {15: 'None'},\n",
       " 'subtitle': {15: '3rd Edition'},\n",
       " 'author': {15: \"{'avatar': 'https://m.media-amazon.com/images/I/01Kv-W2ysOL._SY600_.png', 'name': 'John D. Baldwin', 'about': ['Discover more of the author's books, see similar authors, read author blogs and more']}\"}}"
      ]
     },
     "execution_count": 28,
     "metadata": {},
     "output_type": "execute_result"
    }
   ],
   "source": [
    "df = con.execute(\"SELECT * FROM raw_meta_Books LIMIT 100\").fetchdf()\n",
    "\n",
    "df.head(16).tail(1).to_dict()"
   ]
  },
  {
   "cell_type": "code",
   "execution_count": 29,
   "metadata": {},
   "outputs": [
    {
     "data": {
      "text/html": [
       "<div>\n",
       "<style scoped>\n",
       "    .dataframe tbody tr th:only-of-type {\n",
       "        vertical-align: middle;\n",
       "    }\n",
       "\n",
       "    .dataframe tbody tr th {\n",
       "        vertical-align: top;\n",
       "    }\n",
       "\n",
       "    .dataframe thead th {\n",
       "        text-align: right;\n",
       "    }\n",
       "</style>\n",
       "<table border=\"1\" class=\"dataframe\">\n",
       "  <thead>\n",
       "    <tr style=\"text-align: right;\">\n",
       "      <th></th>\n",
       "      <th>title</th>\n",
       "      <th>parent_asin</th>\n",
       "      <th>review_title</th>\n",
       "      <th>review_text</th>\n",
       "      <th>helpful_vote</th>\n",
       "    </tr>\n",
       "  </thead>\n",
       "  <tbody>\n",
       "    <tr>\n",
       "      <th>0</th>\n",
       "      <td>Kindle Lighted Leather Cover, Black (Fits Kind...</td>\n",
       "      <td>B003DZ165W</td>\n",
       "      <td>well worth it</td>\n",
       "      <td>[[VIDEOID:341c6b1d810aedcfac302e1e6371de3f]] T...</td>\n",
       "      <td>999</td>\n",
       "    </tr>\n",
       "    <tr>\n",
       "      <th>1</th>\n",
       "      <td>BENGOO Stereo Pro Gaming Headset for PS4, PC, ...</td>\n",
       "      <td>B0BN942894</td>\n",
       "      <td>Headset works awesome and they have great cust...</td>\n",
       "      <td>Received to be a defective headset in the begi...</td>\n",
       "      <td>99</td>\n",
       "    </tr>\n",
       "    <tr>\n",
       "      <th>2</th>\n",
       "      <td>Rock Band 4 Wireless Guitar Bundle- Xbox One</td>\n",
       "      <td>B01E10MWDW</td>\n",
       "      <td>The game is still in progress, so it only seem...</td>\n",
       "      <td>I've been a huge fan of the music game genre s...</td>\n",
       "      <td>99</td>\n",
       "    </tr>\n",
       "    <tr>\n",
       "      <th>3</th>\n",
       "      <td>Thrustmaster Ferrari 458 Spider Racing Wheel (...</td>\n",
       "      <td>B0B9XBQSJ7</td>\n",
       "      <td>On your mark, get set, Go....</td>\n",
       "      <td>My son has a great time pretending that he's i...</td>\n",
       "      <td>99</td>\n",
       "    </tr>\n",
       "    <tr>\n",
       "      <th>4</th>\n",
       "      <td>GameSir 2021 Version X2 Type-C Mobile Game Con...</td>\n",
       "      <td>B08RJ2NWQ7</td>\n",
       "      <td>It has potential but price needs to be dropped...</td>\n",
       "      <td>Paired with a Galaxy Z Fold2, this should have...</td>\n",
       "      <td>99</td>\n",
       "    </tr>\n",
       "    <tr>\n",
       "      <th>...</th>\n",
       "      <td>...</td>\n",
       "      <td>...</td>\n",
       "      <td>...</td>\n",
       "      <td>...</td>\n",
       "      <td>...</td>\n",
       "    </tr>\n",
       "    <tr>\n",
       "      <th>95</th>\n",
       "      <td>Tales of Berseria - PlayStation 4</td>\n",
       "      <td>B08VFQJHYB</td>\n",
       "      <td>A little old plus a little new makes a a worth...</td>\n",
       "      <td>I'm a huge tales fan and while I didn't dislik...</td>\n",
       "      <td>98</td>\n",
       "    </tr>\n",
       "    <tr>\n",
       "      <th>96</th>\n",
       "      <td>Logitech G810 Orion Spectrum RGB Mechanical Ga...</td>\n",
       "      <td>B01BBKYM3I</td>\n",
       "      <td>Keycap stems easily broken</td>\n",
       "      <td>This keyboard was amazing when i first got it....</td>\n",
       "      <td>98</td>\n",
       "    </tr>\n",
       "    <tr>\n",
       "      <th>97</th>\n",
       "      <td>TRON: Evolution - Nintendo DS</td>\n",
       "      <td>B0031SWWPO</td>\n",
       "      <td>2 Hours into the game, and I don't understand ...</td>\n",
       "      <td>As the subject line says.&lt;br /&gt;&lt;br /&gt;I am a la...</td>\n",
       "      <td>98</td>\n",
       "    </tr>\n",
       "    <tr>\n",
       "      <th>98</th>\n",
       "      <td>EA Sports Active Accessory Pack - Nintendo Wii</td>\n",
       "      <td>B0024RI6S0</td>\n",
       "      <td>Poor design, poor quality</td>\n",
       "      <td>I purchased this package 4-1/2 months ago alon...</td>\n",
       "      <td>98</td>\n",
       "    </tr>\n",
       "    <tr>\n",
       "      <th>99</th>\n",
       "      <td>Ico - PlayStation 2</td>\n",
       "      <td>B00004YUWA</td>\n",
       "      <td>Definitive proof that innovation exists in gam...</td>\n",
       "      <td>Every once in a while, a game comes along that...</td>\n",
       "      <td>98</td>\n",
       "    </tr>\n",
       "  </tbody>\n",
       "</table>\n",
       "<p>100 rows × 5 columns</p>\n",
       "</div>"
      ],
      "text/plain": [
       "                                                title parent_asin  \\\n",
       "0   Kindle Lighted Leather Cover, Black (Fits Kind...  B003DZ165W   \n",
       "1   BENGOO Stereo Pro Gaming Headset for PS4, PC, ...  B0BN942894   \n",
       "2        Rock Band 4 Wireless Guitar Bundle- Xbox One  B01E10MWDW   \n",
       "3   Thrustmaster Ferrari 458 Spider Racing Wheel (...  B0B9XBQSJ7   \n",
       "4   GameSir 2021 Version X2 Type-C Mobile Game Con...  B08RJ2NWQ7   \n",
       "..                                                ...         ...   \n",
       "95                  Tales of Berseria - PlayStation 4  B08VFQJHYB   \n",
       "96  Logitech G810 Orion Spectrum RGB Mechanical Ga...  B01BBKYM3I   \n",
       "97                      TRON: Evolution - Nintendo DS  B0031SWWPO   \n",
       "98     EA Sports Active Accessory Pack - Nintendo Wii  B0024RI6S0   \n",
       "99                                Ico - PlayStation 2  B00004YUWA   \n",
       "\n",
       "                                         review_title  \\\n",
       "0                                       well worth it   \n",
       "1   Headset works awesome and they have great cust...   \n",
       "2   The game is still in progress, so it only seem...   \n",
       "3                       On your mark, get set, Go....   \n",
       "4   It has potential but price needs to be dropped...   \n",
       "..                                                ...   \n",
       "95  A little old plus a little new makes a a worth...   \n",
       "96                         Keycap stems easily broken   \n",
       "97  2 Hours into the game, and I don't understand ...   \n",
       "98                          Poor design, poor quality   \n",
       "99  Definitive proof that innovation exists in gam...   \n",
       "\n",
       "                                          review_text helpful_vote  \n",
       "0   [[VIDEOID:341c6b1d810aedcfac302e1e6371de3f]] T...          999  \n",
       "1   Received to be a defective headset in the begi...           99  \n",
       "2   I've been a huge fan of the music game genre s...           99  \n",
       "3   My son has a great time pretending that he's i...           99  \n",
       "4   Paired with a Galaxy Z Fold2, this should have...           99  \n",
       "..                                                ...          ...  \n",
       "95  I'm a huge tales fan and while I didn't dislik...           98  \n",
       "96  This keyboard was amazing when i first got it....           98  \n",
       "97  As the subject line says.<br /><br />I am a la...           98  \n",
       "98  I purchased this package 4-1/2 months ago alon...           98  \n",
       "99  Every once in a while, a game comes along that...           98  \n",
       "\n",
       "[100 rows x 5 columns]"
      ]
     },
     "execution_count": 29,
     "metadata": {},
     "output_type": "execute_result"
    }
   ],
   "source": [
    "\n",
    "result= con.execute(\n",
    "    \"\"\"SELECT b.title, b.parent_asin, a.title as review_title, a.text as review_text, a.helpful_vote\n",
    "    FROM raw_review_Video_Games  a\n",
    "                    INNER JOIN raw_meta_Video_Games b\n",
    "                    ON a.parent_asin = b.parent_asin\n",
    "                    ORDER BY a.helpful_vote DESC LIMIT 100\"\"\").df()\n",
    "result"
   ]
  }
 ],
 "metadata": {
  "kernelspec": {
   "display_name": ".venv",
   "language": "python",
   "name": "python3"
  },
  "language_info": {
   "codemirror_mode": {
    "name": "ipython",
    "version": 3
   },
   "file_extension": ".py",
   "mimetype": "text/x-python",
   "name": "python",
   "nbconvert_exporter": "python",
   "pygments_lexer": "ipython3",
   "version": "3.10.12"
  }
 },
 "nbformat": 4,
 "nbformat_minor": 2
}
